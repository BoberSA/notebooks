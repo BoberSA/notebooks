{
 "cells": [
  {
   "cell_type": "markdown",
   "metadata": {
    "colab_type": "text",
    "id": "gEiXNQEXRhVW"
   },
   "source": [
    "## Задача трех тел (three-body problem)\n",
    "\n",
    "https://ru.wikipedia.org/wiki/Задача_трёх_тел"
   ]
  },
  {
   "cell_type": "code",
   "execution_count": null,
   "metadata": {
    "colab": {},
    "colab_type": "code",
    "id": "-YDm0jp-RhVZ"
   },
   "outputs": [],
   "source": [
    "import numpy as np\n",
    "from scipy.integrate import ode\n",
    "import matplotlib.pyplot as plt\n",
    "from numba import njit"
   ]
  },
  {
   "cell_type": "markdown",
   "metadata": {
    "colab_type": "text",
    "id": "-Uwg5FiNRhVd"
   },
   "source": [
    "#### Правая часть системы ОДУ (ODE right part)"
   ]
  },
  {
   "cell_type": "code",
   "execution_count": null,
   "metadata": {
    "colab": {},
    "colab_type": "code",
    "id": "wVBQrmM3RhVf"
   },
   "outputs": [],
   "source": [
    "def right_part(t, s, constants):\n",
    "    p1 = s[0:3]\n",
    "    v1 = s[3:6]\n",
    "    p2 = s[6:9]\n",
    "    v2 = s[9:12]\n",
    "    p3 = s[12:15]\n",
    "    v3 = s[15:18]\n",
    "    gm1, gm2, gm3 = constants\n",
    "\n",
    "    r12 = np.linalg.norm(p2 - p1)**3\n",
    "    r13 = np.linalg.norm(p3 - p1)**3\n",
    "    r23 = np.linalg.norm(p3 - p2)**3\n",
    "    \n",
    "    # ODE\n",
    "    dp1 = v1\n",
    "    dp2 = v2\n",
    "    dp3 = v3\n",
    "    dv1 = gm2 * (p2 - p1) / r12 + gm3 * (p3 - p1) / r13\n",
    "    dv2 = gm1 * (p1 - p2) / r12 + gm3 * (p3 - p2) / r23\n",
    "    dv3 = gm1 * (p1 - p3) / r13 + gm2 * (p2 - p3) / r23\n",
    "    \n",
    "    ds = np.empty(18)\n",
    "    ds[0:3] = dp1\n",
    "    ds[3:6] = dv1\n",
    "    ds[6:9] = dp2\n",
    "    ds[9:12] = dv2\n",
    "    ds[12:15] = dp3\n",
    "    ds[15:18] = dv3\n",
    "    \n",
    "    return ds"
   ]
  },
  {
   "cell_type": "markdown",
   "metadata": {
    "colab_type": "text",
    "id": "edPkVvkaRhVj"
   },
   "source": [
    "#### Начальное состояние (initial state)"
   ]
  },
  {
   "cell_type": "code",
   "execution_count": null,
   "metadata": {
    "colab": {
     "base_uri": "https://localhost:8080/",
     "height": 265
    },
    "colab_type": "code",
    "id": "khVQyA42RhVk",
    "outputId": "5528dc92-7470-4a57-b67d-06a9df167e48"
   },
   "outputs": [],
   "source": [
    "# равносторонний треугольник (equal sides triangle)\n",
    "\n",
    "angles = np.deg2rad([0, 120, 240])\n",
    "r = 10\n",
    "x = r * np.cos(angles)\n",
    "y = r * np.sin(angles)\n",
    "plt.triplot(x, y)\n",
    "plt.plot(x, y, '.k')\n",
    "for i in range(3):\n",
    "    plt.text(x[i], y[i], f' {i+1}')\n",
    "plt.axis('equal');"
   ]
  },
  {
   "cell_type": "code",
   "execution_count": null,
   "metadata": {
    "colab": {},
    "colab_type": "code",
    "id": "VIg7iM51RhVp"
   },
   "outputs": [],
   "source": [
    "# небольшая асимметрия в скоростях (small velocity asymmetry)\n",
    "\n",
    "s0 = np.array([x[0], y[0], 0.0, 0.0, 0., 0.,   # положение и скорость тела 1\n",
    "               x[1], y[1], 0.0, 0.5, 0., 0.,   # положение и скорость тела 2\n",
    "               x[2], y[2], 0.0, 0.0, 0., 0.,]) # положение и скорость тела 3"
   ]
  },
  {
   "cell_type": "markdown",
   "metadata": {
    "colab_type": "text",
    "id": "ZdpG9ET6RhVs"
   },
   "source": [
    "#### Гравитационные параметры тел (gravitaional parameters)"
   ]
  },
  {
   "cell_type": "code",
   "execution_count": null,
   "metadata": {
    "colab": {},
    "colab_type": "code",
    "id": "v8c3BlxBRhVt"
   },
   "outputs": [],
   "source": [
    "m = np.array([1., 1., 1.])*1e1"
   ]
  },
  {
   "cell_type": "markdown",
   "metadata": {
    "colab_type": "text",
    "id": "IKXLhxjgRhVy"
   },
   "source": [
    "#### Интегратор Рунге-Кутты 8 порядка (Runge-Kutta integrator of 8 order)"
   ]
  },
  {
   "cell_type": "code",
   "execution_count": null,
   "metadata": {
    "colab": {
     "base_uri": "https://localhost:8080/",
     "height": 34
    },
    "colab_type": "code",
    "id": "aRVW5jIkRhVz",
    "outputId": "c45f59d3-f21d-448a-e18e-7bbabff87643"
   },
   "outputs": [],
   "source": [
    "integrator = ode(njit(right_part).compile('f8[:](f8,f8[:],f8[:])'))\n",
    "integrator.set_integrator('dop853')\n",
    "integrator.set_f_params(m)"
   ]
  },
  {
   "cell_type": "markdown",
   "metadata": {
    "colab_type": "text",
    "id": "VzAc7fTHRhV3"
   },
   "source": [
    "#### Интегрирование равными шагами (integration using equal steps)"
   ]
  },
  {
   "cell_type": "code",
   "execution_count": null,
   "metadata": {
    "colab": {},
    "colab_type": "code",
    "id": "ztkGrn7uRhV4"
   },
   "outputs": [],
   "source": [
    "integrator.set_initial_value(s0, 0.0)\n",
    "dt = 0.01\n",
    "maxt = 30\n",
    "n = int(maxt / dt)\n",
    "states = np.empty((n, 18))\n",
    "time = np.empty(n)\n",
    "\n",
    "for i in range(n):\n",
    "    time[i] = dt * (i + 1)\n",
    "    states[i] = integrator.integrate(time[i])"
   ]
  },
  {
   "cell_type": "markdown",
   "metadata": {
    "colab_type": "text",
    "id": "LFKxnj0ARhV8"
   },
   "source": [
    "#### Траектории в плоскости X-Y (trajectories in X-Y plane)"
   ]
  },
  {
   "cell_type": "code",
   "execution_count": null,
   "metadata": {
    "colab": {
     "base_uri": "https://localhost:8080/",
     "height": 606
    },
    "colab_type": "code",
    "id": "B0IMc3lzRhV9",
    "outputId": "f4ec0de4-0e6c-4c56-d3b4-da6814018087"
   },
   "outputs": [],
   "source": [
    "plt.figure(figsize=(10,10))\n",
    "plt.plot(*states[:,[0,1]].T, label='1');\n",
    "plt.plot(*states[:,[6,7]].T, label='2');\n",
    "plt.plot(*states[:,[12,13]].T, label='3');\n",
    "x = s0[0::6]\n",
    "y = s0[1::6]\n",
    "vx = s0[3::6]\n",
    "vy = s0[4::6]\n",
    "plt.plot(x, y, '.k', label='start')\n",
    "plt.quiver(x, y, vx, vy, scale=10, width=0.005, alpha=0.5)\n",
    "for i in range(3):\n",
    "    plt.text(x[i], y[i], f' {i+1}')\n",
    "plt.legend()\n",
    "plt.xlabel('x')\n",
    "plt.ylabel('y');"
   ]
  },
  {
   "cell_type": "markdown",
   "metadata": {
    "colab_type": "text",
    "id": "DGS2RwytRhWB"
   },
   "source": [
    "#### Фазовые портреты VX-X (phase trajectories in VX-X plane)"
   ]
  },
  {
   "cell_type": "code",
   "execution_count": null,
   "metadata": {
    "colab": {
     "base_uri": "https://localhost:8080/",
     "height": 606
    },
    "colab_type": "code",
    "id": "zZvoumK9RhWD",
    "outputId": "f5a5930e-b73e-48a0-f8a6-d907370e094a"
   },
   "outputs": [],
   "source": [
    "plt.figure(figsize=(10,10))\n",
    "plt.plot(*states[:,[0,3]].T, label='1');\n",
    "plt.plot(*states[:,[6,9]].T, label='2');\n",
    "plt.plot(*states[:,[12,15]].T, label='3');\n",
    "x = s0[0::6]\n",
    "vx = s0[3::6]\n",
    "plt.plot(x, vx, '.k', label='start')\n",
    "for i in range(3):\n",
    "    plt.text(x[i], vx[i], f' {i+1}')\n",
    "plt.legend()\n",
    "plt.xlabel('x')\n",
    "plt.ylabel('vx');"
   ]
  },
  {
   "cell_type": "markdown",
   "metadata": {
    "colab_type": "text",
    "id": "GXQKguTeRhWG"
   },
   "source": [
    "#### Частное решение \"восьмерка\" (particular solution \"number eight\")\n",
    "\n",
    "https://arxiv.org/pdf/math/0011268.pdf"
   ]
  },
  {
   "cell_type": "code",
   "execution_count": null,
   "metadata": {
    "colab": {},
    "colab_type": "code",
    "id": "Gc7bOg6mRhWH"
   },
   "outputs": [],
   "source": [
    "x1 = 0.97000436\n",
    "y1 = -0.24308753\n",
    "x2 = -x1\n",
    "y2 = -y1\n",
    "x3 = 0\n",
    "y3 = 0\n",
    "vx3 = -0.93240737\n",
    "vy3 = -0.86473146\n",
    "vx1 = -0.5*vx3\n",
    "vy1 = -0.5*vy3\n",
    "vx2 = vx1\n",
    "vy2 = vy1"
   ]
  },
  {
   "cell_type": "code",
   "execution_count": null,
   "metadata": {
    "colab": {
     "base_uri": "https://localhost:8080/",
     "height": 34
    },
    "colab_type": "code",
    "id": "FezBpJ7ORhWK",
    "outputId": "459a3727-d2dc-4a5d-adbe-e4c66ec84d52"
   },
   "outputs": [],
   "source": [
    "m = np.array([1., 1., 1.])\n",
    "integrator.set_f_params(m)"
   ]
  },
  {
   "cell_type": "code",
   "execution_count": null,
   "metadata": {
    "colab": {},
    "colab_type": "code",
    "id": "hIqxLrJERhWN"
   },
   "outputs": [],
   "source": [
    "s0 = np.array([x1, y1, 0.0, vx1, vy1, 0.0,   # положение и скорость тела 1\n",
    "               x2, y2, 0.0, vx2, vy2, 0.0,   # положение и скорость тела 2\n",
    "               x3, y3, 0.0, vx3, vy3, 0.0,]) # положение и скорость тела 3"
   ]
  },
  {
   "cell_type": "code",
   "execution_count": null,
   "metadata": {
    "colab": {},
    "colab_type": "code",
    "id": "XJrDXSpFRhWR"
   },
   "outputs": [],
   "source": [
    "integrator.set_initial_value(s0, 0.0)\n",
    "n = 1000\n",
    "maxt = 6.32591398\n",
    "dt = maxt / n\n",
    "states = np.empty((n, 18))\n",
    "time = np.empty(n)\n",
    "\n",
    "for i in range(n):\n",
    "    time[i] = dt * (i + 1)\n",
    "    states[i] = integrator.integrate(time[i])"
   ]
  },
  {
   "cell_type": "markdown",
   "metadata": {
    "colab_type": "text",
    "id": "RC7GaWeBRhWU"
   },
   "source": [
    "#### Траектории в плоскости X-Y (trajectories in X-Y plane)"
   ]
  },
  {
   "cell_type": "code",
   "execution_count": null,
   "metadata": {
    "colab": {
     "base_uri": "https://localhost:8080/",
     "height": 606
    },
    "colab_type": "code",
    "id": "1ByEIOfDRhWW",
    "outputId": "8c67f4ec-bd5e-432b-fb9c-a2bdc4756644"
   },
   "outputs": [],
   "source": [
    "plt.figure(figsize=(10,10))\n",
    "plt.plot(*states[:,[0,1]].T, label='1');\n",
    "plt.plot(*states[:,[6,7]].T, label='2');\n",
    "plt.plot(*states[:,[12,13]].T, label='3');\n",
    "x = s0[0::6]\n",
    "y = s0[1::6]\n",
    "vx = s0[3::6]\n",
    "vy = s0[4::6]\n",
    "plt.plot(x, y, '.k', label='start')\n",
    "plt.quiver(x, y, vx, vy, scale=10, width=0.005, alpha=0.5)\n",
    "for i in range(3):\n",
    "    plt.text(x[i], y[i], f' {i+1}')\n",
    "plt.legend()\n",
    "plt.xlabel('x')\n",
    "plt.ylabel('y')\n",
    "plt.axis('equal');"
   ]
  },
  {
   "cell_type": "markdown",
   "metadata": {
    "colab_type": "text",
    "id": "LM5RcrndRhWZ"
   },
   "source": [
    "#### Фазовые портреты VX-X (phase trajectories in VX-X plane)"
   ]
  },
  {
   "cell_type": "code",
   "execution_count": null,
   "metadata": {
    "colab": {
     "base_uri": "https://localhost:8080/",
     "height": 606
    },
    "colab_type": "code",
    "id": "Davxf23zRhWa",
    "outputId": "9ae6cf6b-b2f0-4157-eee0-e6fa70db66a1"
   },
   "outputs": [],
   "source": [
    "plt.figure(figsize=(10,10))\n",
    "plt.plot(*states[:,[0,3]].T, label='1');\n",
    "plt.plot(*states[:,[6,9]].T, label='2');\n",
    "plt.plot(*states[:,[12,15]].T, label='3');\n",
    "x = s0[0::6]\n",
    "vx = s0[3::6]\n",
    "plt.plot(x, vx, '.k', label='start')\n",
    "for i in range(3):\n",
    "    plt.text(x[i], vx[i], f' {i+1}')\n",
    "plt.legend()\n",
    "plt.xlabel('x')\n",
    "plt.ylabel('vx');"
   ]
  },
  {
   "cell_type": "code",
   "execution_count": null,
   "metadata": {
    "colab": {},
    "colab_type": "code",
    "id": "oLOTvM5LRhWd"
   },
   "outputs": [],
   "source": []
  }
 ],
 "metadata": {
  "colab": {
   "name": "Three-body problem example.ipynb",
   "provenance": []
  },
  "kernelspec": {
   "display_name": "Python 3",
   "language": "python",
   "name": "python3"
  },
  "language_info": {
   "codemirror_mode": {
    "name": "ipython",
    "version": 3
   },
   "file_extension": ".py",
   "mimetype": "text/x-python",
   "name": "python",
   "nbconvert_exporter": "python",
   "pygments_lexer": "ipython3",
   "version": "3.7.3"
  }
 },
 "nbformat": 4,
 "nbformat_minor": 1
}
